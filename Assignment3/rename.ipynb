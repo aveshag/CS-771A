{
 "cells": [
  {
   "cell_type": "code",
   "execution_count": 1,
   "metadata": {},
   "outputs": [],
   "source": [
    "import cv2\n",
    "import os\n",
    "import glob\n",
    "import numpy as np\n",
    "import matplotlib.pyplot as plt\n",
    "import time as tm"
   ]
  },
  {
   "cell_type": "code",
   "execution_count": 3,
   "metadata": {},
   "outputs": [],
   "source": [
    "test = \"test1\"\n",
    "       \n",
    "captchas = glob.glob(os.path.join(test, \"*\"))\n",
    "\n",
    "count = 0\n",
    "f = open(\"codes.txt\",\"w+\")\n",
    "for (i, captcha) in enumerate(captchas):\n",
    "    filename = os.path.basename(captcha)\n",
    "    filename_old = filename\n",
    "    filename = filename[0:-4]\n",
    "    f.write(\"%s\\n\"%filename)\n",
    "    filename_new = \"image\"+str(i)+\".png\"\n",
    "    os.rename(\"test1/\"+filename_old,\"test1/\"+filename_new)\n",
    "f.close()"
   ]
  },
  {
   "cell_type": "code",
   "execution_count": null,
   "metadata": {},
   "outputs": [],
   "source": []
  }
 ],
 "metadata": {
  "kernelspec": {
   "display_name": "Python 3",
   "language": "python",
   "name": "python3"
  },
  "language_info": {
   "codemirror_mode": {
    "name": "ipython",
    "version": 3
   },
   "file_extension": ".py",
   "mimetype": "text/x-python",
   "name": "python",
   "nbconvert_exporter": "python",
   "pygments_lexer": "ipython3",
   "version": "3.7.3"
  }
 },
 "nbformat": 4,
 "nbformat_minor": 2
}
