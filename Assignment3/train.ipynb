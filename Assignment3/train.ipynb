{
 "cells": [
  {
   "cell_type": "code",
   "execution_count": 1,
   "metadata": {},
   "outputs": [],
   "source": [
    "import cv2\n",
    "import os\n",
    "import glob\n",
    "import numpy as np\n",
    "import matplotlib.pyplot as plt\n",
    "import time as tm"
   ]
  },
  {
   "cell_type": "code",
   "execution_count": 2,
   "metadata": {},
   "outputs": [
    {
     "name": "stdout",
     "output_type": "stream",
     "text": [
      "62.265679422001995\n"
     ]
    }
   ],
   "source": [
    "train = \"train\"\n",
    "split_img = \"split_img\"\n",
    "os.system('rm -rf split_img')\n",
    "try:\n",
    "    os.mkdir(split_img)\n",
    "except:\n",
    "    garbage = 0\n",
    "\n",
    "\n",
    "for i in range(65,91):\n",
    "    try:\n",
    "        os.mkdir(split_img + \"/\" + chr(i))\n",
    "    except: \n",
    "        garbage = 0\n",
    "       \n",
    "captchas = glob.glob(os.path.join(train, \"*\"))\n",
    "\n",
    "\n",
    "# count = np.zeros([256])\n",
    "# captcha = \"train/QDMK.png\"\n",
    "# img = cv2.imread(captcha,0)\n",
    "\n",
    "# cv2.imshow('image',img)\n",
    "# cv2.waitKey(0)\n",
    "# cv2.destroyAllWindows()\n",
    "\n",
    "# for i in range(len(img)) :  \n",
    "#     for j in range(len(img[i])) :  \n",
    "#         count[img[i][j]] += 1\n",
    "# sort_count = np.sort(count)\n",
    "# sort_ind = np.argsort(count)[-20:-1]\n",
    "# print(sort_ind)\n",
    "\n",
    "# for i in range(len(img)) :  \n",
    "#     for j in range(len(img[i])) :  \n",
    "#         flag = 0\n",
    "#         for k in sort_ind :\n",
    "#             if(img[i][j] == k) :\n",
    "#                 flag = 1\n",
    "#                 break\n",
    "#         if(flag == 1):\n",
    "#             img[i][j] = 0\n",
    "#         else:\n",
    "#             img[i][j] = 255\n",
    "            \n",
    "# cv2.imshow('image',img)\n",
    "# cv2.waitKey(0)\n",
    "# cv2.destroyAllWindows()\n",
    "tic = tm.perf_counter()\n",
    "\n",
    "count = 0\n",
    "for (i, captcha) in enumerate(captchas):\n",
    "#     captcha = \"train/AVR.png\"\n",
    "#     print(captcha,i)\n",
    "    img = cv2.imread(captcha)   #read image as grayscale\n",
    "    \n",
    "    first_px = img[0,0]\n",
    "    img[np.where(img == first_px)] = 0\n",
    "    \n",
    "    kernel = np.ones((6,6),np.uint8)\n",
    "    erosion = cv2.erode(img, kernel, iterations = 1)  \n",
    "    img = cv2.morphologyEx(erosion, cv2.MORPH_OPEN, kernel)\n",
    "    \n",
    "    img[np.where(img == 0)] = 255\n",
    "    \n",
    "    img = cv2.cvtColor(img, cv2.COLOR_BGR2GRAY)\n",
    "    \n",
    "    img[np.where(img != 255)] = 0\n",
    "    \n",
    "    crop_s = []\n",
    "    crop_e = []\n",
    "    \n",
    "    start = 0\n",
    "    end = 0\n",
    "    flag = 1\n",
    "    \n",
    "    \n",
    "    img = np.transpose(img)\n",
    "    \n",
    "    #print(len(img))\n",
    "    \n",
    "    num_px = 0 # number of pixels\n",
    "    \n",
    "    for i in range(len(img)):\n",
    "        if  flag and np.sum(img[i]) != 255*(len(img[i])) :\n",
    "            start = i\n",
    "            flag = 0\n",
    "        elif flag == 0 and np.sum(img[i]) == 255*(len(img[i])) :\n",
    "            flag = 1\n",
    "            mid = int((i + start)/2)\n",
    "            if i - start > 25 and np.sum(img[mid])<(255*(len(img[mid])-10)):\n",
    "                crop_s.append(start)\n",
    "                crop_e.append(i)\n",
    "    #print(crop)\n",
    "    \n",
    "    img = np.transpose(img)\n",
    "#     cv2.imshow('image',img)\n",
    "#     cv2.waitKey(0)\n",
    "#     cv2.destroyAllWindows()\n",
    "    filename = os.path.basename(captcha)\n",
    "    captcha_text = os.path.splitext(filename)[0]\n",
    "    if (len(crop_s)-len(captcha_text)) != 0 :\n",
    "        print(captcha_text)\n",
    "        print(len(crop_s))\n",
    "        print(len(captcha_text))\n",
    "    for i in range(len(crop_s)):\n",
    "        if i == len(captcha_text):\n",
    "            break\n",
    "        x_ = crop_s[i]\n",
    "        y_ = crop_e[i]\n",
    "        crop_img = img[:,x_-5:y_+5]\n",
    "        save_path = os.path.join(split_img, captcha_text[i])\n",
    "        p = os.path.join(save_path, \"{}.png\".format(str(count)))\n",
    "        cv2.imwrite(p, crop_img)\n",
    "        count += 1\n",
    "        \n",
    "#     break\n",
    "\n",
    "toc = tm.perf_counter()\n",
    "print(toc-tic)"
   ]
  },
  {
   "cell_type": "code",
   "execution_count": 3,
   "metadata": {},
   "outputs": [],
   "source": [
    "# training a model \n",
    "X = []\n",
    "y = []\n",
    "solved_letters = glob.glob(os.path.join(\"split_img/*\", \"*\"))\n",
    "for i,img in enumerate(solved_letters):\n",
    "    try:\n",
    "        txt = img.split('/')[1]\n",
    "#         yi =np.zeros(26)\n",
    "#         yi[ord(txt)-65] =1\n",
    "#             print(img)\n",
    "        yi = ord(txt)-65\n",
    "        img = cv2.imread(img,0)\n",
    "        dim = (28,28)\n",
    "        img = cv2.resize(img, dim, interpolation = cv2.INTER_AREA)\n",
    "        img = img.reshape(-1)\n",
    "        X.append(np.array(img))\n",
    "        y.append(yi)\n",
    "#         print(img.shape)\n",
    "#         break\n",
    "    except:\n",
    "        print(\"Not a image\")"
   ]
  },
  {
   "cell_type": "code",
   "execution_count": 4,
   "metadata": {},
   "outputs": [
    {
     "name": "stdout",
     "output_type": "stream",
     "text": [
      "(7005, 784)\n",
      "(7005,)\n"
     ]
    }
   ],
   "source": [
    "X = np.array(X)\n",
    "y = np.array(y)\n",
    "print(X.shape)\n",
    "print(y.shape)"
   ]
  },
  {
   "cell_type": "code",
   "execution_count": 5,
   "metadata": {},
   "outputs": [],
   "source": [
    "X_train = X.reshape(X.shape[0], 28, 28, 1)\n",
    "X_train = X_train.astype('float32')\n",
    "# Normalizing the RGB codes by dividing it to the max RGB value.\n",
    "X_train /= 255"
   ]
  },
  {
   "cell_type": "code",
   "execution_count": 6,
   "metadata": {},
   "outputs": [
    {
     "name": "stdout",
     "output_type": "stream",
     "text": [
      "WARNING:tensorflow:From /home/avesh/anaconda3/lib/python3.7/site-packages/tensorflow_core/python/ops/resource_variable_ops.py:1630: calling BaseResourceVariable.__init__ (from tensorflow.python.ops.resource_variable_ops) with constraint is deprecated and will be removed in a future version.\n",
      "Instructions for updating:\n",
      "If using Keras pass *_constraint arguments to layers.\n",
      "Model: \"sequential\"\n",
      "_________________________________________________________________\n",
      "Layer (type)                 Output Shape              Param #   \n",
      "=================================================================\n",
      "conv2d (Conv2D)              (None, 28, 28, 28)        728       \n",
      "_________________________________________________________________\n",
      "max_pooling2d (MaxPooling2D) (None, 14, 14, 28)        0         \n",
      "_________________________________________________________________\n",
      "conv2d_1 (Conv2D)            (None, 14, 14, 50)        35050     \n",
      "_________________________________________________________________\n",
      "max_pooling2d_1 (MaxPooling2 (None, 7, 7, 50)          0         \n",
      "_________________________________________________________________\n",
      "flatten (Flatten)            (None, 2450)              0         \n",
      "_________________________________________________________________\n",
      "dense (Dense)                (None, 100)               245100    \n",
      "_________________________________________________________________\n",
      "dense_1 (Dense)              (None, 26)                2626      \n",
      "=================================================================\n",
      "Total params: 283,504\n",
      "Trainable params: 283,504\n",
      "Non-trainable params: 0\n",
      "_________________________________________________________________\n"
     ]
    }
   ],
   "source": [
    "import tensorflow as tf\n",
    "from tensorflow.keras.models import Sequential\n",
    "from tensorflow.keras.layers import Dense, Conv2D, Dropout, Flatten, MaxPooling2D\n",
    "# Creating a Sequential Model and adding the layers\n",
    "input_shape = (28, 28, 1)\n",
    "model = Sequential()\n",
    "model.add(Conv2D(28, padding=\"same\", kernel_size=(5,5), input_shape=input_shape, activation=\"relu\"))\n",
    "model.add(MaxPooling2D(pool_size=(2, 2),strides=(2, 2)))\n",
    "\n",
    "model.add(Conv2D(50, (5, 5), padding=\"same\", activation=\"relu\"))\n",
    "model.add(MaxPooling2D(pool_size=(2, 2), strides=(2, 2)))\n",
    "\n",
    "model.add(Flatten()) # Flattening the 2D arrays for fully connected layers\n",
    "model.add(Dense(100, activation=tf.nn.relu))\n",
    "#model.add(Dropout(0.2))\n",
    "model.add(Dense(26,activation=tf.nn.softmax))\n",
    "model.summary()"
   ]
  },
  {
   "cell_type": "code",
   "execution_count": 7,
   "metadata": {
    "scrolled": false
   },
   "outputs": [
    {
     "name": "stdout",
     "output_type": "stream",
     "text": [
      "Train on 7005 samples\n",
      "Epoch 1/10\n",
      "7005/7005 [==============================] - 12s 2ms/sample - loss: 0.7759 - acc: 0.7863\n",
      "Epoch 2/10\n",
      "7005/7005 [==============================] - 10s 1ms/sample - loss: 0.0293 - acc: 0.9919\n",
      "Epoch 3/10\n",
      "7005/7005 [==============================] - 11s 2ms/sample - loss: 0.0152 - acc: 0.9963\n",
      "Epoch 4/10\n",
      "7005/7005 [==============================] - 9s 1ms/sample - loss: 0.0057 - acc: 0.9986\n",
      "Epoch 5/10\n",
      "7005/7005 [==============================] - 10s 1ms/sample - loss: 0.0121 - acc: 0.9963\n",
      "Epoch 6/10\n",
      "7005/7005 [==============================] - 10s 1ms/sample - loss: 0.0040 - acc: 0.9989\n",
      "Epoch 7/10\n",
      "7005/7005 [==============================] - 9s 1ms/sample - loss: 6.7730e-04 - acc: 0.9997\n",
      "Epoch 8/10\n",
      "7005/7005 [==============================] - 10s 1ms/sample - loss: 0.0110 - acc: 0.9973\n",
      "Epoch 9/10\n",
      "7005/7005 [==============================] - 10s 1ms/sample - loss: 3.7981e-04 - acc: 1.0000\n",
      "Epoch 10/10\n",
      "7005/7005 [==============================] - 10s 1ms/sample - loss: 1.7361e-04 - acc: 1.0000\n"
     ]
    },
    {
     "data": {
      "text/plain": [
       "<tensorflow.python.keras.callbacks.History at 0x7f87e341a710>"
      ]
     },
     "execution_count": 7,
     "metadata": {},
     "output_type": "execute_result"
    }
   ],
   "source": [
    "model.compile(optimizer = 'adam', loss = 'sparse_categorical_crossentropy', metrics = ['accuracy'])\n",
    "model.fit( X_train, y, epochs=10)"
   ]
  },
  {
   "cell_type": "code",
   "execution_count": 8,
   "metadata": {},
   "outputs": [
    {
     "name": "stdout",
     "output_type": "stream",
     "text": [
      "7005/7005 [==============================] - 4s 579us/sample - loss: 7.2170e-05 - acc: 1.0000\n",
      "Total time taken is 4.067054 seconds \n"
     ]
    }
   ],
   "source": [
    "tic = tm.perf_counter()\n",
    "model.evaluate(X_train, y)\n",
    "toc = tm.perf_counter()\n",
    "print( \"Total time taken is %.6f seconds \" % (toc - tic) )"
   ]
  },
  {
   "cell_type": "code",
   "execution_count": 9,
   "metadata": {},
   "outputs": [],
   "source": [
    "model.save(\"model.h5\")"
   ]
  },
  {
   "cell_type": "code",
   "execution_count": null,
   "metadata": {},
   "outputs": [],
   "source": []
  }
 ],
 "metadata": {
  "kernelspec": {
   "display_name": "Python 3",
   "language": "python",
   "name": "python3"
  },
  "language_info": {
   "codemirror_mode": {
    "name": "ipython",
    "version": 3
   },
   "file_extension": ".py",
   "mimetype": "text/x-python",
   "name": "python",
   "nbconvert_exporter": "python",
   "pygments_lexer": "ipython3",
   "version": "3.7.3"
  }
 },
 "nbformat": 4,
 "nbformat_minor": 2
}
